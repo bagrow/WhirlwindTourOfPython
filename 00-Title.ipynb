{
 "cells": [
  {
   "cell_type": "markdown",
   "metadata": {},
   "source": [
    "# A Whirlwind Tour of Python for STAT/CS 287\n",
    "\n",
    "*James Bagrow, August 2016*\n",
    "\n",
    "This mini-text serves as introductory reading for my course, Data Science I, held at the\n",
    "University of Vermont. It has been very lightly adapted and specialized from the original\n",
    "\"A Whirlwind Tour of Python\"\n",
    "by Jake VanderPlas, and he deserves the overwhelming majority of credit for this work.\n",
    "\n",
    "\n",
    "\n",
    "*A Whirlwind Tour of Python* is a fast-paced introduction to essential\n",
    "components of the Python language for researchers and developers who are\n",
    "already familiar with programming in another language.\n",
    "\n",
    "The material is particularly aimed at those who wish to use Python for data \n",
    "science and/or scientific programming, and in this capacity serves as an\n",
    "introduction to Jake VanderPlas' book, The Python Data Science Handbook."
   ]
  },
  {
   "cell_type": "markdown",
   "metadata": {},
   "source": [
    "## Contents\n",
    "\n",
    "1. [Title](00-Title.ipynb)\n",
    "1. [Introduction](01-Introduction.ipynb)\n",
    "1. [How to Run Python Code](02-How-to-Run-Python-Code.ipynb)\n",
    "1. [Basic Python Syntax](03-Basic-Python-Syntax.ipynb)\n",
    "1. [Python Semantics: Variables](04-Semantics-Variables.ipynb)\n",
    "1. [Python Semantics: Operators](05-Semantics-Operators.ipynb)\n",
    "1. [Built-In Scalar Types](06-Built-in-Scalar-Types.ipynb)\n",
    "1. [Built-In Data Structures](07-Built-in-Data-Structures.ipynb)\n",
    "1. [Strings](08-Strings.ipynb)\n",
    "1. [Control Flow Statements](09-Control-Flow-Statements.ipynb)\n",
    "1. [Defining Functions](10-Defining-Functions.ipynb)\n",
    "1. [Errors and Exceptions](11-Errors-and-Exceptions.ipynb)\n",
    "1. [Iterators](12-Iterators.ipynb)\n",
    "1. [List Comprehensions](13-List-Comprehensions.ipynb)\n",
    "1. [Modules and Packages](14-Modules-and-Packages.ipynb)\n",
    "1. [Preview of Data Science Tools](15-Preview-of-Data-Science-Tools.ipynb)\n",
    "1. [Resources for Further Learning](16-Further-Resources.ipynb)\n",
    "1. [Appendix: Code To Reproduce Figures](17-Appendix-Figures.ipynb)"
   ]
  },
  {
   "cell_type": "markdown",
   "metadata": {},
   "source": [
    "## License and Citation\n",
    "\n",
    "\n",
    "As with the original Whirlwind Tour text, this material is released under the \"No Rights Reserved\" [CC0](LICENSE)\n",
    "license, and thus you are free to re-use, modify, build-on, and enhance\n",
    "this material for any purpose.\n",
    "Read more about CC0 [here](https://creativecommons.org/share-your-work/public-domain/cc0/).\n",
    "\n",
    "If you do use this material, I would appreciate attribution and an acknowledgment of VanderPlas' original work.\n",
    "For example:\n",
    "\n",
    "> A Whirlwind Tour of Python for STAT/CS 287. Adapted and specialized by James\n",
    "> Bagrow from: A Whirlwind Tour of Python by Jake VanderPlas (O’Reilly).\n",
    "> Copyright 2016 O’Reilly Media, Inc., 978-1-491-96465-1.\n",
    "\n",
    "Read more about CC0 [here](https://creativecommons.org/share-your-work/public-domain/cc0/)."
   ]
  }
 ],
 "metadata": {
  "kernelspec": {
   "display_name": "Python [Root]",
   "language": "python",
   "name": "Python [Root]"
  },
  "language_info": {
   "codemirror_mode": {
    "name": "ipython",
    "version": 3
   },
   "file_extension": ".py",
   "mimetype": "text/x-python",
   "name": "python",
   "nbconvert_exporter": "python",
   "pygments_lexer": "ipython3",
   "version": "3.5.2"
  }
 },
 "nbformat": 4,
 "nbformat_minor": 0
}
