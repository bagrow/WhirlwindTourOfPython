{
 "cells": [
  {
   "cell_type": "markdown",
   "metadata": {},
   "source": [
    "# Working with Files and Folders\n",
    "\n"
   ]
  },
  {
   "cell_type": "markdown",
   "metadata": {},
   "source": [
    "## Reading files"
   ]
  },
  {
   "cell_type": "markdown",
   "metadata": {},
   "source": [
    "Python provides functionality for accessing files and folders (directories). The `open` function is a builtin Python function that can be used to read and write files.\n",
    "```Python\n",
    "fin = open(\"f.txt\")\n",
    "```\n",
    "\n",
    "Here we have opened the text file `f.txt` for reading (the default open \"mode\", equivalent to calling `open(\"f.txt\", 'r')`). This creates an object (or \"handle\") `fin` that provides access to the file. For example,\n",
    "```Python\n",
    "fin.read()\n",
    "```\n",
    "or\n",
    "```Python\n",
    "fin.readline()\n",
    "```\n",
    "or\n",
    "```Python\n",
    "fin.readlines()\n",
    "```\n",
    "allow us different ways to read the contents of the file:\n",
    "\n",
    "* `read` reads the file into a single string\n",
    "* `readline` reads from the current position in the file until the first newline is encountered\n",
    "* `readlines` reads the file into a list of strings, one list element for each line.\n",
    "\n",
    "File handles keep track of their current position in the file, so for example if you call `fin.readline()` and then call it again, the second call will begin reading where the previous call stopped. This is handy for incrementally reading files.\n",
    "\n",
    "File handles work well with loops:\n",
    "```Python\n",
    "for line in open(\"f.txt\"):\n",
    "    print(line.strip())\n",
    "```\n",
    "Here the for loop automatically retrieves each line of the text file and assigns it to the looping variable `line`. The `line.strip()` call removes the trailing newline character that is kept with each `line`."
   ]
  },
  {
   "cell_type": "markdown",
   "metadata": {},
   "source": [
    "## Writing files"
   ]
  },
  {
   "cell_type": "markdown",
   "metadata": {},
   "source": [
    "The `open` function can also be used to write contents to a file. Here you need to make sure to open the file in \"writing mode\"\n",
    "\n",
    "```Python\n",
    "fout = open(\"g.txt\", 'w')\n",
    "fout.write(\"Saving data...\\n\")\n",
    "```\n",
    "Note that using `.write` requires dealing with newlines.\n",
    "\n",
    "The builtin `print` function interacts nicely with file handles:\n",
    "```Python\n",
    "print(\"Hello!\", file=fout)\n",
    "```\n",
    "and by default it will even add the newlines for you!\n",
    "\n",
    "It is important when you are done writing to a file to **close** it:\n",
    "```Python\n",
    "fout.close()\n",
    "```\n",
    "\n",
    "File handles can also be opened in \"append\" mode (`a`) and in binary read/write modes (`rb`, `wb`). These are less common than read mode (`r`) and write mode (`w`)."
   ]
  },
  {
   "cell_type": "markdown",
   "metadata": {},
   "source": [
    "## File names, paths, and working directories\n",
    "\n",
    "A file **path** is used to represent the name and location of a file. For example, a file named `f.txt` stored in Alice Smith's Documents folder on a Mac may have the following path:\n",
    "```\n",
    "/Users/alicesmith/Documents/f.txt\n",
    "```\n",
    "\n",
    "Here the folder `Documents` is inside the `alicesmith` folder which is inside the `Users` folder. The forward slash character (`/`) is used as a **delimiter** to separate the elements of the path. Some operating systems use different symbols for this purpose, and Python provides an `os` and `os.path` module to handle this automatically."
   ]
  },
  {
   "cell_type": "markdown",
   "metadata": {},
   "source": [
    "### Working directories\n",
    "\n",
    "When Python is running it has a default directory for file operations. This is known as the **working directory** or **current working directory**. For example, when opening a file just using the filename, Python assumes the file is in the current working directory.\n",
    "\n",
    "The `os` module provides a function for printing the full path of the current working directory (cwd):\n",
    "```Python\n",
    ">>> import os\n",
    ">>> cwd = os.getcwd()\n",
    ">>> print(cwd)\n",
    "/Users/alicesmith\n",
    "```\n",
    "This example shows the current working directory is Alice's home folder.\n",
    "\n",
    "A **relative path** is a file path that starts from the current working directory, whereas an **absolute path** starts from the top of the file system. For example, the path `statistics/f.txt` assumes there is a folder inside the current working directory called `statistics` that contains the file `f.txt`.\n",
    "\n",
    "The `os.path` modules allows you to convert from relative to absolute paths:\n",
    "```Python\n",
    ">>> os.path.abspath(\"statistics/f.txt\")\n",
    "'/Users/alicesmith/statistics/f.txt'\n",
    "```\n",
    "\n",
    "Changing the working directory is a common action and is often needed to make code that is portable across different computers. By keeping file paths relative to a working directory, machine-specific information (such as the name of user's home folder) is not needed."
   ]
  }
 ],
 "metadata": {
  "kernelspec": {
   "display_name": "Python 3",
   "language": "python",
   "name": "python3"
  },
  "language_info": {
   "codemirror_mode": {
    "name": "ipython",
    "version": 3
   },
   "file_extension": ".py",
   "mimetype": "text/x-python",
   "name": "python",
   "nbconvert_exporter": "python",
   "pygments_lexer": "ipython3",
   "version": "3.7.3"
  },
  "toc": {
   "base_numbering": 1,
   "nav_menu": {},
   "number_sections": false,
   "sideBar": true,
   "skip_h1_title": false,
   "title_cell": "Table of Contents",
   "title_sidebar": "Contents",
   "toc_cell": false,
   "toc_position": {},
   "toc_section_display": true,
   "toc_window_display": false
  }
 },
 "nbformat": 4,
 "nbformat_minor": 2
}
