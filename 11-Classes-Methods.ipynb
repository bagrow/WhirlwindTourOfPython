{
 "cells": [
  {
   "cell_type": "markdown",
   "metadata": {},
   "source": [
    "# Classes and Methods\n",
    "\n",
    "As mentioned before, everything in Python is an object. That means Python code can be organized into classes, allowing objects to neatly bundle up data and associated functionality. Classes allow for more modular and reusable code. Functions attached to objects are referred to as \"methods\".\n",
    "\n",
    "Even if you are not writing classes yourself, since everything is an object, it is important to understand the basics if you encounter errors related to classes or class functionality."
   ]
  },
  {
   "cell_type": "markdown",
   "metadata": {},
   "source": [
    "## Defining classes and methods\n",
    "\n",
    "Here is a simple example of a class with an initialization function (all Python initialization functions are named `__init__`) and several methods"
   ]
  },
  {
   "cell_type": "code",
   "execution_count": 1,
   "metadata": {},
   "outputs": [],
   "source": [
    "class Dog():\n",
    "    def __init__(self, name, age,weight):\n",
    "        self.name = name\n",
    "        self.age = age\n",
    "        self.weight = weight\n",
    "        \n",
    "        self.location = (0,0)\n",
    "        self.trajectory = [self.location]\n",
    "\n",
    "    def howl(self):\n",
    "        print(\"I am {}. Hear me roar!!!\".format(self.name))\n",
    "\n",
    "    def walk(self, step=0.1):\n",
    "        \"\"\"To update the position of the dog...\"\"\"\n",
    "        x,y = self.location\n",
    "        self.location = x+step, y+step\n",
    "        self.trajectory.append(self.location)\n",
    "\n",
    "    def save(self, prefix):\n",
    "        filename = \"{}_n{name}_a{age}_w{weight}_traj.txt\".format(prefix,name=self.name, age=self.age, weight=self.weight)\n",
    "        print(filename)\n",
    "        # write to disk in some way"
   ]
  },
  {
   "cell_type": "markdown",
   "metadata": {},
   "source": [
    "Here we defined a class called `Dog` and gave it several attributes (`name`, `age`, ...) and methods (`howl`, `walk`, ...). The syntax is very simple, methods are defined just like functions except they are indented within the `class` block.\n",
    "\n",
    "Each method of the class should begin with an argument called `self`. You can think of this argument as a placeholder for the object that will be created. \n"
   ]
  },
  {
   "cell_type": "code",
   "execution_count": 2,
   "metadata": {},
   "outputs": [
    {
     "name": "stdout",
     "output_type": "stream",
     "text": [
      "I am fido. Hear me roar!!!\n"
     ]
    }
   ],
   "source": [
    "fido = Dog(\"fido\", 2.5, 20)\n",
    "\n",
    "fido.howl()"
   ]
  },
  {
   "cell_type": "markdown",
   "metadata": {},
   "source": [
    "Here we create a `Dog` object giving it a name (`fido`), age (`2.5`), and weight (`20`) which are set up as attributes automatically inside the `__init__` method. We then call the `howl` method. Note that the definition of the method has an argument called `self` but this is only a placeholder for the object. Now that the object (`fido`) exists, `fido.howl()` will automatically resolve to `Dog.howl(fido)` and we do not need to worry about `self`. "
   ]
  },
  {
   "cell_type": "markdown",
   "metadata": {},
   "source": [
    "## Applications of objects\n",
    "\n",
    "Object-oriented programming is helpful for **maintaining state**. For example, a *chatbot* can switch itself between different modes of functionality and use an attribute to remember what state it is in.\n",
    "\n",
    "Likewise, attributes and methods make it easier to pass many arguments between functions. Consider this code:\n",
    "\n",
    "```Python\n",
    "result, time, date = computation(input1, input2)\n",
    "\n",
    "experiment['result'] = result\n",
    "experiment['time'] = time\n",
    "experiment['date'] = date\n",
    "```\n",
    "\n",
    "Here the user has to call a function that takes two inputs in a specific order and returns three outputs. She must remember the order of these outputs, which can be easy to forget if she did not (recently) write `computation`. And she must deal with updating a dictionary called `experiment`.\n",
    "\n",
    "\n",
    "Using an object, much of this bookkeeping can be **hidden away** from the user:\n",
    "\n",
    "```Python\n",
    "class Experiment()\n",
    "    ...\n",
    "    \n",
    "    def update_computation(self):\n",
    "        self.result = self.get_new_result(self.input1)\n",
    "        self.time = self.get_new_time(self.input2)\n",
    "        self.date = self.get_new_date(self.input1)\n",
    "    ...\n",
    "```\n",
    "\n",
    "Now the end user does not need to put nearly as much thought into the internal processes, and won't need to remember the order of inputs and outputs:\n",
    "\n",
    "```Python\n",
    "experiment = Experiment()\n",
    "experiment.update_computation()\n",
    "```\n",
    "\n",
    "While not always optimal, structuring code in this way is often effective.\n"
   ]
  },
  {
   "cell_type": "markdown",
   "metadata": {},
   "source": [
    "See also: [the official Python tutorial on classes](https://docs.python.org/3/tutorial/classes.html)."
   ]
  }
 ],
 "metadata": {
  "kernelspec": {
   "display_name": "Python 3",
   "language": "python",
   "name": "python3"
  },
  "language_info": {
   "codemirror_mode": {
    "name": "ipython",
    "version": 3
   },
   "file_extension": ".py",
   "mimetype": "text/x-python",
   "name": "python",
   "nbconvert_exporter": "python",
   "pygments_lexer": "ipython3",
   "version": "3.7.3"
  },
  "toc": {
   "base_numbering": 1,
   "nav_menu": {},
   "number_sections": false,
   "sideBar": true,
   "skip_h1_title": false,
   "title_cell": "Table of Contents",
   "title_sidebar": "Contents",
   "toc_cell": false,
   "toc_position": {},
   "toc_section_display": true,
   "toc_window_display": false
  }
 },
 "nbformat": 4,
 "nbformat_minor": 2
}
